{
  "nbformat": 4,
  "nbformat_minor": 5,
  "metadata": {
    "kernelspec": {
      "display_name": "Python 3",
      "language": "python",
      "name": "python3"
    },
    "language_info": {
      "codemirror_mode": {
        "name": "ipython",
        "version": 3
      },
      "file_extension": ".py",
      "mimetype": "text/x-python",
      "name": "python",
      "nbconvert_exporter": "python",
      "pygments_lexer": "ipython3",
      "version": "3.8.5"
    },
    "colab": {
      "name": "corellation.ipynb",
      "provenance": [],
      "include_colab_link": true
    }
  },
  "cells": [
    {
      "cell_type": "markdown",
      "metadata": {
        "id": "view-in-github",
        "colab_type": "text"
      },
      "source": [
        "<a href=\"https://colab.research.google.com/github/GezhinOleg/Pay_Stat_L4/blob/main/corellation.ipynb\" target=\"_parent\"><img src=\"https://colab.research.google.com/assets/colab-badge.svg\" alt=\"Open In Colab\"/></a>"
      ]
    },
    {
      "cell_type": "markdown",
      "metadata": {
        "id": "photographic-pricing"
      },
      "source": [
        "## Домашнее задание\n",
        "### 1. Задача - ответить на вопрос есть ли связь между жёсткостью воды и средней годовой смертностью?\n",
        "    a. Построить точечный график\n",
        "    b. Рассчитать коэффициенты корреляции Пирсона и Спирмена\n",
        "    c. Построить модель линейной регрессии\n",
        "    d. Рассчитать коэффициент детерминации\n",
        "    e. Вывести график остатков\n",
        "### 2. Сохраняется ли аналогичная зависимость для северных и южных городов по отдельности?\n",
        "    a. Разделить данные на 2 группы\n",
        "    b. Повторить аналогичные шаги из пункта 1 для каждой группы по отдельности"
      ],
      "id": "photographic-pricing"
    },
    {
      "cell_type": "code",
      "metadata": {
        "id": "junior-essence"
      },
      "source": [
        "import pandas as pd\n",
        "import matplotlib.pyplot as plt\n",
        "import seaborn as sns"
      ],
      "id": "junior-essence",
      "execution_count": null,
      "outputs": []
    },
    {
      "cell_type": "code",
      "metadata": {
        "id": "fatal-essay",
        "outputId": "890377cf-0440-409b-985c-c3635c9b0345"
      },
      "source": [
        "data = pd.read_csv('water.csv').set_index('town')\n",
        "data.drop('Unnamed: 0', axis=1, inplace=True)\n",
        "data.head()"
      ],
      "id": "fatal-essay",
      "execution_count": null,
      "outputs": [
        {
          "data": {
            "text/html": [
              "<div>\n",
              "<style scoped>\n",
              "    .dataframe tbody tr th:only-of-type {\n",
              "        vertical-align: middle;\n",
              "    }\n",
              "\n",
              "    .dataframe tbody tr th {\n",
              "        vertical-align: top;\n",
              "    }\n",
              "\n",
              "    .dataframe thead th {\n",
              "        text-align: right;\n",
              "    }\n",
              "</style>\n",
              "<table border=\"1\" class=\"dataframe\">\n",
              "  <thead>\n",
              "    <tr style=\"text-align: right;\">\n",
              "      <th></th>\n",
              "      <th>location</th>\n",
              "      <th>mortality</th>\n",
              "      <th>hardness</th>\n",
              "    </tr>\n",
              "    <tr>\n",
              "      <th>town</th>\n",
              "      <th></th>\n",
              "      <th></th>\n",
              "      <th></th>\n",
              "    </tr>\n",
              "  </thead>\n",
              "  <tbody>\n",
              "    <tr>\n",
              "      <th>Bath</th>\n",
              "      <td>South</td>\n",
              "      <td>1247</td>\n",
              "      <td>105</td>\n",
              "    </tr>\n",
              "    <tr>\n",
              "      <th>Birkenhead</th>\n",
              "      <td>North</td>\n",
              "      <td>1668</td>\n",
              "      <td>17</td>\n",
              "    </tr>\n",
              "    <tr>\n",
              "      <th>Birmingham</th>\n",
              "      <td>South</td>\n",
              "      <td>1466</td>\n",
              "      <td>5</td>\n",
              "    </tr>\n",
              "    <tr>\n",
              "      <th>Blackburn</th>\n",
              "      <td>North</td>\n",
              "      <td>1800</td>\n",
              "      <td>14</td>\n",
              "    </tr>\n",
              "    <tr>\n",
              "      <th>Blackpool</th>\n",
              "      <td>North</td>\n",
              "      <td>1609</td>\n",
              "      <td>18</td>\n",
              "    </tr>\n",
              "  </tbody>\n",
              "</table>\n",
              "</div>"
            ],
            "text/plain": [
              "           location  mortality  hardness\n",
              "town                                    \n",
              "Bath          South       1247       105\n",
              "Birkenhead    North       1668        17\n",
              "Birmingham    South       1466         5\n",
              "Blackburn     North       1800        14\n",
              "Blackpool     North       1609        18"
            ]
          },
          "execution_count": 4,
          "metadata": {},
          "output_type": "execute_result"
        }
      ]
    },
    {
      "cell_type": "code",
      "metadata": {
        "id": "sharing-candle",
        "outputId": "f3a4c621-08f6-4be8-9b45-e4eaf2e01ac9"
      },
      "source": [
        "data.plot(kind='scatter', x='mortality', y='hardness')"
      ],
      "id": "sharing-candle",
      "execution_count": null,
      "outputs": [
        {
          "data": {
            "text/plain": [
              "<AxesSubplot:xlabel='mortality', ylabel='hardness'>"
            ]
          },
          "execution_count": 5,
          "metadata": {},
          "output_type": "execute_result"
        },
        {
          "data": {
            "image/png": "[encoded data removed]",
            "text/plain": [
              "<Figure size 432x288 with 1 Axes>"
            ]
          },
          "metadata": {
            "needs_background": "light"
          },
          "output_type": "display_data"
        }
      ]
    },
    {
      "cell_type": "code",
      "metadata": {
        "id": "molecular-meditation",
        "outputId": "2dc0795b-5e9c-44b2-82d5-6db316cb739b"
      },
      "source": [
        "data[['mortality', 'hardness']].corr()"
      ],
      "id": "molecular-meditation",
      "execution_count": null,
      "outputs": [
        {
          "data": {
            "text/html": [
              "<div>\n",
              "<style scoped>\n",
              "    .dataframe tbody tr th:only-of-type {\n",
              "        vertical-align: middle;\n",
              "    }\n",
              "\n",
              "    .dataframe tbody tr th {\n",
              "        vertical-align: top;\n",
              "    }\n",
              "\n",
              "    .dataframe thead th {\n",
              "        text-align: right;\n",
              "    }\n",
              "</style>\n",
              "<table border=\"1\" class=\"dataframe\">\n",
              "  <thead>\n",
              "    <tr style=\"text-align: right;\">\n",
              "      <th></th>\n",
              "      <th>mortality</th>\n",
              "      <th>hardness</th>\n",
              "    </tr>\n",
              "  </thead>\n",
              "  <tbody>\n",
              "    <tr>\n",
              "      <th>mortality</th>\n",
              "      <td>1.000000</td>\n",
              "      <td>-0.654849</td>\n",
              "    </tr>\n",
              "    <tr>\n",
              "      <th>hardness</th>\n",
              "      <td>-0.654849</td>\n",
              "      <td>1.000000</td>\n",
              "    </tr>\n",
              "  </tbody>\n",
              "</table>\n",
              "</div>"
            ],
            "text/plain": [
              "           mortality  hardness\n",
              "mortality   1.000000 -0.654849\n",
              "hardness   -0.654849  1.000000"
            ]
          },
          "execution_count": 6,
          "metadata": {},
          "output_type": "execute_result"
        }
      ]
    },
    {
      "cell_type": "code",
      "metadata": {
        "id": "catholic-harris",
        "outputId": "8a59897e-3867-4b21-e2de-128fea531f87"
      },
      "source": [
        "data[['mortality', 'hardness']].corr(method='spearman')"
      ],
      "id": "catholic-harris",
      "execution_count": null,
      "outputs": [
        {
          "data": {
            "text/html": [
              "<div>\n",
              "<style scoped>\n",
              "    .dataframe tbody tr th:only-of-type {\n",
              "        vertical-align: middle;\n",
              "    }\n",
              "\n",
              "    .dataframe tbody tr th {\n",
              "        vertical-align: top;\n",
              "    }\n",
              "\n",
              "    .dataframe thead th {\n",
              "        text-align: right;\n",
              "    }\n",
              "</style>\n",
              "<table border=\"1\" class=\"dataframe\">\n",
              "  <thead>\n",
              "    <tr style=\"text-align: right;\">\n",
              "      <th></th>\n",
              "      <th>mortality</th>\n",
              "      <th>hardness</th>\n",
              "    </tr>\n",
              "  </thead>\n",
              "  <tbody>\n",
              "    <tr>\n",
              "      <th>mortality</th>\n",
              "      <td>1.000000</td>\n",
              "      <td>-0.631665</td>\n",
              "    </tr>\n",
              "    <tr>\n",
              "      <th>hardness</th>\n",
              "      <td>-0.631665</td>\n",
              "      <td>1.000000</td>\n",
              "    </tr>\n",
              "  </tbody>\n",
              "</table>\n",
              "</div>"
            ],
            "text/plain": [
              "           mortality  hardness\n",
              "mortality   1.000000 -0.631665\n",
              "hardness   -0.631665  1.000000"
            ]
          },
          "execution_count": 7,
          "metadata": {},
          "output_type": "execute_result"
        }
      ]
    },
    {
      "cell_type": "code",
      "metadata": {
        "id": "sacred-mirror",
        "outputId": "d45632c6-9d97-441c-a7e5-f880f46b0d9b"
      },
      "source": [
        "data[['mortality', 'hardness']].corr(method='kendall')"
      ],
      "id": "sacred-mirror",
      "execution_count": null,
      "outputs": [
        {
          "data": {
            "text/html": [
              "<div>\n",
              "<style scoped>\n",
              "    .dataframe tbody tr th:only-of-type {\n",
              "        vertical-align: middle;\n",
              "    }\n",
              "\n",
              "    .dataframe tbody tr th {\n",
              "        vertical-align: top;\n",
              "    }\n",
              "\n",
              "    .dataframe thead th {\n",
              "        text-align: right;\n",
              "    }\n",
              "</style>\n",
              "<table border=\"1\" class=\"dataframe\">\n",
              "  <thead>\n",
              "    <tr style=\"text-align: right;\">\n",
              "      <th></th>\n",
              "      <th>mortality</th>\n",
              "      <th>hardness</th>\n",
              "    </tr>\n",
              "  </thead>\n",
              "  <tbody>\n",
              "    <tr>\n",
              "      <th>mortality</th>\n",
              "      <td>1.000000</td>\n",
              "      <td>-0.453753</td>\n",
              "    </tr>\n",
              "    <tr>\n",
              "      <th>hardness</th>\n",
              "      <td>-0.453753</td>\n",
              "      <td>1.000000</td>\n",
              "    </tr>\n",
              "  </tbody>\n",
              "</table>\n",
              "</div>"
            ],
            "text/plain": [
              "           mortality  hardness\n",
              "mortality   1.000000 -0.453753\n",
              "hardness   -0.453753  1.000000"
            ]
          },
          "execution_count": 8,
          "metadata": {},
          "output_type": "execute_result"
        }
      ]
    },
    {
      "cell_type": "markdown",
      "metadata": {
        "id": "loaded-washington"
      },
      "source": [
        "## Регрессия"
      ],
      "id": "loaded-washington"
    },
    {
      "cell_type": "code",
      "metadata": {
        "id": "designed-operations"
      },
      "source": [
        "from sklearn.linear_model import LinearRegression\n",
        "from sklearn.model_selection import train_test_split"
      ],
      "id": "designed-operations",
      "execution_count": null,
      "outputs": []
    },
    {
      "cell_type": "code",
      "metadata": {
        "id": "peripheral-result"
      },
      "source": [
        "X = data[['hardness']]\n",
        "y = data['mortality']"
      ],
      "id": "peripheral-result",
      "execution_count": null,
      "outputs": []
    },
    {
      "cell_type": "code",
      "metadata": {
        "id": "burning-category"
      },
      "source": [
        "X_train, X_test, y_train, y_test = train_test_split(X, y, test_size=0.50, random_state=20)"
      ],
      "id": "burning-category",
      "execution_count": null,
      "outputs": []
    },
    {
      "cell_type": "code",
      "metadata": {
        "id": "responsible-palace",
        "outputId": "da2f284a-113e-491a-9fd0-a4d521e65500"
      },
      "source": [
        "X_train.shape"
      ],
      "id": "responsible-palace",
      "execution_count": null,
      "outputs": [
        {
          "data": {
            "text/plain": [
              "(30, 1)"
            ]
          },
          "execution_count": 12,
          "metadata": {},
          "output_type": "execute_result"
        }
      ]
    },
    {
      "cell_type": "code",
      "metadata": {
        "id": "minute-queue",
        "outputId": "78bd3298-63e0-4455-d43a-296f21460812"
      },
      "source": [
        "y_train.shape"
      ],
      "id": "minute-queue",
      "execution_count": null,
      "outputs": [
        {
          "data": {
            "text/plain": [
              "(30,)"
            ]
          },
          "execution_count": 13,
          "metadata": {},
          "output_type": "execute_result"
        }
      ]
    },
    {
      "cell_type": "code",
      "metadata": {
        "id": "arabic-contact",
        "outputId": "157c12e5-af8f-4571-c073-44f245cea417"
      },
      "source": [
        "model = LinearRegression()\n",
        "model.fit(X_train, y_train)"
      ],
      "id": "arabic-contact",
      "execution_count": null,
      "outputs": [
        {
          "data": {
            "text/plain": [
              "LinearRegression()"
            ]
          },
          "execution_count": 14,
          "metadata": {},
          "output_type": "execute_result"
        }
      ]
    },
    {
      "cell_type": "code",
      "metadata": {
        "id": "inner-knife",
        "outputId": "170daf91-8a7c-4bab-b999-c242e2b4a473"
      },
      "source": [
        "model.coef_"
      ],
      "id": "inner-knife",
      "execution_count": null,
      "outputs": [
        {
          "data": {
            "text/plain": [
              "array([-3.76840682])"
            ]
          },
          "execution_count": 15,
          "metadata": {},
          "output_type": "execute_result"
        }
      ]
    },
    {
      "cell_type": "code",
      "metadata": {
        "id": "cheap-amsterdam",
        "outputId": "07db9ee9-d415-4ab6-8f1a-0a80396ab80c"
      },
      "source": [
        "model.intercept_"
      ],
      "id": "cheap-amsterdam",
      "execution_count": null,
      "outputs": [
        {
          "data": {
            "text/plain": [
              "1723.9477850486633"
            ]
          },
          "execution_count": 16,
          "metadata": {},
          "output_type": "execute_result"
        }
      ]
    },
    {
      "cell_type": "code",
      "metadata": {
        "id": "worldwide-holly",
        "outputId": "05e23f6a-19f5-4ddc-9906-4bb229d21d0b"
      },
      "source": [
        "y_pred = model.predict(X_test)\n",
        "y_pred"
      ],
      "id": "worldwide-holly",
      "execution_count": null,
      "outputs": [
        {
          "data": {
            "text/plain": [
              "array([1656.11646221, 1381.02276403, 1576.9799189 , 1264.20215248,\n",
              "       1384.79117086, 1644.81124174, 1674.95849633, 1686.26371681,\n",
              "       1456.39090052, 1467.69612099, 1674.95849633, 1705.10575093,\n",
              "       1690.03212363, 1625.96920762, 1686.26371681, 1659.88486903,\n",
              "       1524.22222336, 1693.80053045, 1264.20215248, 1671.19008951,\n",
              "       1456.39090052, 1584.51673255, 1497.84337559, 1328.26506849,\n",
              "       1362.18072991, 1671.19008951, 1501.61178241, 1535.52744383,\n",
              "       1448.85408687, 1671.19008951, 1203.90764329])"
            ]
          },
          "execution_count": 17,
          "metadata": {},
          "output_type": "execute_result"
        }
      ]
    },
    {
      "cell_type": "code",
      "metadata": {
        "id": "authentic-buying",
        "outputId": "ff407064-7e2e-48af-ac29-c9a25d526af0"
      },
      "source": [
        "model.score(X_test, y_test)"
      ],
      "id": "authentic-buying",
      "execution_count": null,
      "outputs": [
        {
          "data": {
            "text/plain": [
              "0.2721902409837491"
            ]
          },
          "execution_count": 18,
          "metadata": {},
          "output_type": "execute_result"
        }
      ]
    },
    {
      "cell_type": "code",
      "metadata": {
        "id": "simple-details",
        "outputId": "b1cf9674-4d98-4377-c1e3-9e8a933a63cd"
      },
      "source": [
        "plt.scatter(X_test, y_test)\n",
        "plt.plot(y_test - y_pred, y_pred, c='r')"
      ],
      "id": "simple-details",
      "execution_count": null,
      "outputs": [
        {
          "data": {
            "text/plain": [
              "[<matplotlib.lines.Line2D at 0x23fe2b307f0>]"
            ]
          },
          "execution_count": 44,
          "metadata": {},
          "output_type": "execute_result"
        },
        {
          "data": {
            "image/png": "[encoded data removed]",
            "text/plain": [
              "<Figure size 432x288 with 1 Axes>"
            ]
          },
          "metadata": {
            "needs_background": "light"
          },
          "output_type": "display_data"
        }
      ]
    },
    {
      "cell_type": "markdown",
      "metadata": {
        "id": "confident-advisory"
      },
      "source": [
        "### 2 часть. Сохраняется ли аналогичная зависимость для северных и южных городов по отдельности?"
      ],
      "id": "confident-advisory"
    },
    {
      "cell_type": "code",
      "metadata": {
        "id": "separate-remains"
      },
      "source": [
        "import pandas as pd\n",
        "import numpy as np\n",
        "import matplotlib.pyplot as plt\n",
        "import matplotlib\n",
        "data = pd.read_csv('water.csv').set_index('town')\n",
        "data.drop('Unnamed: 0', axis=1, inplace=True)\n",
        "data_south = data.drop(data[data.location == 'North'].index)\n",
        "data_north = data.drop(data[data.location == 'South'].index)"
      ],
      "id": "separate-remains",
      "execution_count": null,
      "outputs": []
    },
    {
      "cell_type": "code",
      "metadata": {
        "id": "distant-knight",
        "outputId": "8bd41db6-b28b-4f3a-96f6-ad273a482638"
      },
      "source": [
        "data_south.plot(kind='scatter', x='mortality', y='hardness')\n",
        "data_north.plot(kind='scatter', x='mortality', y='hardness')"
      ],
      "id": "distant-knight",
      "execution_count": null,
      "outputs": [
        {
          "data": {
            "text/plain": [
              "<AxesSubplot:xlabel='mortality', ylabel='hardness'>"
            ]
          },
          "execution_count": 25,
          "metadata": {},
          "output_type": "execute_result"
        },
        {
          "data": {
            "image/png": "[encoded data removed]",
            "text/plain": [
              "<Figure size 432x288 with 1 Axes>"
            ]
          },
          "metadata": {
            "needs_background": "light"
          },
          "output_type": "display_data"
        },
        {
          "data": {
            "image/png": "[encoded data removed]",
            "text/plain": [
              "<Figure size 432x288 with 1 Axes>"
            ]
          },
          "metadata": {
            "needs_background": "light"
          },
          "output_type": "display_data"
        }
      ]
    },
    {
      "cell_type": "code",
      "metadata": {
        "id": "peripheral-improvement",
        "outputId": "5fa1feb6-8343-4c53-d378-bdfd1cc296ee"
      },
      "source": [
        "data_south[['mortality', 'hardness']].corr()"
      ],
      "id": "peripheral-improvement",
      "execution_count": null,
      "outputs": [
        {
          "data": {
            "text/html": [
              "<div>\n",
              "<style scoped>\n",
              "    .dataframe tbody tr th:only-of-type {\n",
              "        vertical-align: middle;\n",
              "    }\n",
              "\n",
              "    .dataframe tbody tr th {\n",
              "        vertical-align: top;\n",
              "    }\n",
              "\n",
              "    .dataframe thead th {\n",
              "        text-align: right;\n",
              "    }\n",
              "</style>\n",
              "<table border=\"1\" class=\"dataframe\">\n",
              "  <thead>\n",
              "    <tr style=\"text-align: right;\">\n",
              "      <th></th>\n",
              "      <th>mortality</th>\n",
              "      <th>hardness</th>\n",
              "    </tr>\n",
              "  </thead>\n",
              "  <tbody>\n",
              "    <tr>\n",
              "      <th>mortality</th>\n",
              "      <td>1.000000</td>\n",
              "      <td>-0.602153</td>\n",
              "    </tr>\n",
              "    <tr>\n",
              "      <th>hardness</th>\n",
              "      <td>-0.602153</td>\n",
              "      <td>1.000000</td>\n",
              "    </tr>\n",
              "  </tbody>\n",
              "</table>\n",
              "</div>"
            ],
            "text/plain": [
              "           mortality  hardness\n",
              "mortality   1.000000 -0.602153\n",
              "hardness   -0.602153  1.000000"
            ]
          },
          "execution_count": 26,
          "metadata": {},
          "output_type": "execute_result"
        }
      ]
    },
    {
      "cell_type": "code",
      "metadata": {
        "id": "native-dinner",
        "outputId": "7bb46dfd-4c3e-4545-ca3d-99b96be73796"
      },
      "source": [
        "data_north[['mortality', 'hardness']].corr()"
      ],
      "id": "native-dinner",
      "execution_count": null,
      "outputs": [
        {
          "data": {
            "text/html": [
              "<div>\n",
              "<style scoped>\n",
              "    .dataframe tbody tr th:only-of-type {\n",
              "        vertical-align: middle;\n",
              "    }\n",
              "\n",
              "    .dataframe tbody tr th {\n",
              "        vertical-align: top;\n",
              "    }\n",
              "\n",
              "    .dataframe thead th {\n",
              "        text-align: right;\n",
              "    }\n",
              "</style>\n",
              "<table border=\"1\" class=\"dataframe\">\n",
              "  <thead>\n",
              "    <tr style=\"text-align: right;\">\n",
              "      <th></th>\n",
              "      <th>mortality</th>\n",
              "      <th>hardness</th>\n",
              "    </tr>\n",
              "  </thead>\n",
              "  <tbody>\n",
              "    <tr>\n",
              "      <th>mortality</th>\n",
              "      <td>1.000000</td>\n",
              "      <td>-0.368598</td>\n",
              "    </tr>\n",
              "    <tr>\n",
              "      <th>hardness</th>\n",
              "      <td>-0.368598</td>\n",
              "      <td>1.000000</td>\n",
              "    </tr>\n",
              "  </tbody>\n",
              "</table>\n",
              "</div>"
            ],
            "text/plain": [
              "           mortality  hardness\n",
              "mortality   1.000000 -0.368598\n",
              "hardness   -0.368598  1.000000"
            ]
          },
          "execution_count": 27,
          "metadata": {},
          "output_type": "execute_result"
        }
      ]
    },
    {
      "cell_type": "code",
      "metadata": {
        "id": "massive-craps",
        "outputId": "ffb3a073-9b27-4f2d-bef2-bd97a008126c"
      },
      "source": [
        "data_south[['mortality', 'hardness']].corr(method='spearman')"
      ],
      "id": "massive-craps",
      "execution_count": null,
      "outputs": [
        {
          "data": {
            "text/html": [
              "<div>\n",
              "<style scoped>\n",
              "    .dataframe tbody tr th:only-of-type {\n",
              "        vertical-align: middle;\n",
              "    }\n",
              "\n",
              "    .dataframe tbody tr th {\n",
              "        vertical-align: top;\n",
              "    }\n",
              "\n",
              "    .dataframe thead th {\n",
              "        text-align: right;\n",
              "    }\n",
              "</style>\n",
              "<table border=\"1\" class=\"dataframe\">\n",
              "  <thead>\n",
              "    <tr style=\"text-align: right;\">\n",
              "      <th></th>\n",
              "      <th>mortality</th>\n",
              "      <th>hardness</th>\n",
              "    </tr>\n",
              "  </thead>\n",
              "  <tbody>\n",
              "    <tr>\n",
              "      <th>mortality</th>\n",
              "      <td>1.000000</td>\n",
              "      <td>-0.595723</td>\n",
              "    </tr>\n",
              "    <tr>\n",
              "      <th>hardness</th>\n",
              "      <td>-0.595723</td>\n",
              "      <td>1.000000</td>\n",
              "    </tr>\n",
              "  </tbody>\n",
              "</table>\n",
              "</div>"
            ],
            "text/plain": [
              "           mortality  hardness\n",
              "mortality   1.000000 -0.595723\n",
              "hardness   -0.595723  1.000000"
            ]
          },
          "execution_count": 28,
          "metadata": {},
          "output_type": "execute_result"
        }
      ]
    },
    {
      "cell_type": "code",
      "metadata": {
        "id": "recovered-source",
        "outputId": "5fb3a94b-30c5-49f6-ad35-d83e3edc444a"
      },
      "source": [
        "data_north[['mortality', 'hardness']].corr(method='spearman')"
      ],
      "id": "recovered-source",
      "execution_count": null,
      "outputs": [
        {
          "data": {
            "text/html": [
              "<div>\n",
              "<style scoped>\n",
              "    .dataframe tbody tr th:only-of-type {\n",
              "        vertical-align: middle;\n",
              "    }\n",
              "\n",
              "    .dataframe tbody tr th {\n",
              "        vertical-align: top;\n",
              "    }\n",
              "\n",
              "    .dataframe thead th {\n",
              "        text-align: right;\n",
              "    }\n",
              "</style>\n",
              "<table border=\"1\" class=\"dataframe\">\n",
              "  <thead>\n",
              "    <tr style=\"text-align: right;\">\n",
              "      <th></th>\n",
              "      <th>mortality</th>\n",
              "      <th>hardness</th>\n",
              "    </tr>\n",
              "  </thead>\n",
              "  <tbody>\n",
              "    <tr>\n",
              "      <th>mortality</th>\n",
              "      <td>1.000000</td>\n",
              "      <td>-0.404208</td>\n",
              "    </tr>\n",
              "    <tr>\n",
              "      <th>hardness</th>\n",
              "      <td>-0.404208</td>\n",
              "      <td>1.000000</td>\n",
              "    </tr>\n",
              "  </tbody>\n",
              "</table>\n",
              "</div>"
            ],
            "text/plain": [
              "           mortality  hardness\n",
              "mortality   1.000000 -0.404208\n",
              "hardness   -0.404208  1.000000"
            ]
          },
          "execution_count": 29,
          "metadata": {},
          "output_type": "execute_result"
        }
      ]
    },
    {
      "cell_type": "code",
      "metadata": {
        "id": "violent-patch",
        "outputId": "93703451-924a-4ab4-cc98-06024e47096a"
      },
      "source": [
        "data_south[['mortality', 'hardness']].corr(method='kendall')"
      ],
      "id": "violent-patch",
      "execution_count": null,
      "outputs": [
        {
          "data": {
            "text/html": [
              "<div>\n",
              "<style scoped>\n",
              "    .dataframe tbody tr th:only-of-type {\n",
              "        vertical-align: middle;\n",
              "    }\n",
              "\n",
              "    .dataframe tbody tr th {\n",
              "        vertical-align: top;\n",
              "    }\n",
              "\n",
              "    .dataframe thead th {\n",
              "        text-align: right;\n",
              "    }\n",
              "</style>\n",
              "<table border=\"1\" class=\"dataframe\">\n",
              "  <thead>\n",
              "    <tr style=\"text-align: right;\">\n",
              "      <th></th>\n",
              "      <th>mortality</th>\n",
              "      <th>hardness</th>\n",
              "    </tr>\n",
              "  </thead>\n",
              "  <tbody>\n",
              "    <tr>\n",
              "      <th>mortality</th>\n",
              "      <td>1.000000</td>\n",
              "      <td>-0.440315</td>\n",
              "    </tr>\n",
              "    <tr>\n",
              "      <th>hardness</th>\n",
              "      <td>-0.440315</td>\n",
              "      <td>1.000000</td>\n",
              "    </tr>\n",
              "  </tbody>\n",
              "</table>\n",
              "</div>"
            ],
            "text/plain": [
              "           mortality  hardness\n",
              "mortality   1.000000 -0.440315\n",
              "hardness   -0.440315  1.000000"
            ]
          },
          "execution_count": 30,
          "metadata": {},
          "output_type": "execute_result"
        }
      ]
    },
    {
      "cell_type": "code",
      "metadata": {
        "id": "narrow-proposition",
        "outputId": "195d935a-5462-4d29-c980-a916d74f6a9e"
      },
      "source": [
        "data_north[['mortality', 'hardness']].corr(method='kendall')"
      ],
      "id": "narrow-proposition",
      "execution_count": null,
      "outputs": [
        {
          "data": {
            "text/html": [
              "<div>\n",
              "<style scoped>\n",
              "    .dataframe tbody tr th:only-of-type {\n",
              "        vertical-align: middle;\n",
              "    }\n",
              "\n",
              "    .dataframe tbody tr th {\n",
              "        vertical-align: top;\n",
              "    }\n",
              "\n",
              "    .dataframe thead th {\n",
              "        text-align: right;\n",
              "    }\n",
              "</style>\n",
              "<table border=\"1\" class=\"dataframe\">\n",
              "  <thead>\n",
              "    <tr style=\"text-align: right;\">\n",
              "      <th></th>\n",
              "      <th>mortality</th>\n",
              "      <th>hardness</th>\n",
              "    </tr>\n",
              "  </thead>\n",
              "  <tbody>\n",
              "    <tr>\n",
              "      <th>mortality</th>\n",
              "      <td>1.000000</td>\n",
              "      <td>-0.283058</td>\n",
              "    </tr>\n",
              "    <tr>\n",
              "      <th>hardness</th>\n",
              "      <td>-0.283058</td>\n",
              "      <td>1.000000</td>\n",
              "    </tr>\n",
              "  </tbody>\n",
              "</table>\n",
              "</div>"
            ],
            "text/plain": [
              "           mortality  hardness\n",
              "mortality   1.000000 -0.283058\n",
              "hardness   -0.283058  1.000000"
            ]
          },
          "execution_count": 31,
          "metadata": {},
          "output_type": "execute_result"
        }
      ]
    },
    {
      "cell_type": "markdown",
      "metadata": {
        "id": "boring-cornwall"
      },
      "source": [
        "#### Северная группа"
      ],
      "id": "boring-cornwall"
    },
    {
      "cell_type": "code",
      "metadata": {
        "id": "matched-cabinet"
      },
      "source": [
        "from sklearn.linear_model import LinearRegression\n",
        "from sklearn.model_selection import train_test_split"
      ],
      "id": "matched-cabinet",
      "execution_count": null,
      "outputs": []
    },
    {
      "cell_type": "code",
      "metadata": {
        "id": "emerging-coverage",
        "outputId": "4559715e-9fe1-4dd9-c19c-4010cdba9211"
      },
      "source": [
        "X = data_north[['hardness']]\n",
        "y = data_north['mortality']\n",
        "X_train, X_test, y_train, y_test = train_test_split(X, y, test_size=0.50, random_state=10)\n",
        "model.fit(X_train, y_train)\n",
        "print(model.coef_)\n",
        "y_pred = model.predict(X_test)\n",
        "model.score(X_test, y_test)\n",
        "plt.scatter(X_test, y_test)\n",
        "plt.plot(y_test - y_pred, y_pred, c='r')"
      ],
      "id": "emerging-coverage",
      "execution_count": null,
      "outputs": [
        {
          "name": "stdout",
          "output_type": "stream",
          "text": [
            "[-1.32322213]\n"
          ]
        },
        {
          "data": {
            "text/plain": [
              "[<matplotlib.lines.Line2D at 0x23fe3b80af0>]"
            ]
          },
          "execution_count": 42,
          "metadata": {},
          "output_type": "execute_result"
        },
        {
          "data": {
            "image/png": "[encoded data removed]",
            "text/plain": [
              "<Figure size 432x288 with 1 Axes>"
            ]
          },
          "metadata": {
            "needs_background": "light"
          },
          "output_type": "display_data"
        }
      ]
    },
    {
      "cell_type": "markdown",
      "metadata": {
        "id": "greatest-estimate"
      },
      "source": [
        "### Южная группа"
      ],
      "id": "greatest-estimate"
    },
    {
      "cell_type": "code",
      "metadata": {
        "id": "narrative-ottawa",
        "outputId": "8e2984d4-1ad0-4670-bed0-e5342db5818d"
      },
      "source": [
        "X = data_south[['hardness']]\n",
        "y = data_south['mortality']\n",
        "X_train, X_test, y_train, y_test = train_test_split(X, y, test_size=0.50, random_state=10)\n",
        "model.fit(X_train, y_train)\n",
        "print(model.coef_)\n",
        "y_pred = model.predict(X_test)\n",
        "model.score(X_test, y_test)\n",
        "plt.scatter(X_test, y_test)\n",
        "plt.plot(y_test - y_pred, y_pred, c='r')"
      ],
      "id": "narrative-ottawa",
      "execution_count": null,
      "outputs": [
        {
          "name": "stdout",
          "output_type": "stream",
          "text": [
            "[-2.45947318]\n"
          ]
        },
        {
          "data": {
            "text/plain": [
              "[<matplotlib.lines.Line2D at 0x23fe28e1eb0>]"
            ]
          },
          "execution_count": 43,
          "metadata": {},
          "output_type": "execute_result"
        },
        {
          "data": {
            "image/png": "[encoded data removed]",
            "text/plain": [
              "<Figure size 432x288 with 1 Axes>"
            ]
          },
          "metadata": {
            "needs_background": "light"
          },
          "output_type": "display_data"
        }
      ]
    },
    {
      "cell_type": "markdown",
      "metadata": {
        "id": "vietnamese-carter"
      },
      "source": [
        "Общая тенденция в городах южных и северных регионов, сохраняется. Хотя в северных регионах, она менее выражена."
      ],
      "id": "vietnamese-carter"
    },
    {
      "cell_type": "code",
      "metadata": {
        "id": "incident-pursuit"
      },
      "source": [
        ""
      ],
      "id": "incident-pursuit",
      "execution_count": null,
      "outputs": []
    },
    {
      "cell_type": "code",
      "metadata": {
        "id": "original-stick"
      },
      "source": [
        ""
      ],
      "id": "original-stick",
      "execution_count": null,
      "outputs": []
    }
  ]
}